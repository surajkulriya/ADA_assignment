{
 "cells": [
  {
   "cell_type": "code",
   "execution_count": 1,
   "metadata": {},
   "outputs": [
    {
     "data": {
      "text/plain": [
       "'House Robbing: Alice is a skilled thief who plans to rob houses down\\na lane. Each house has a certain amount of money stashed, and the\\nonly thing keeping Alice from robbing each of them is that neighbouring\\nhouses have security systems attached, and if two adjacent houses are\\nbroken into on the same night, the security systems will immediately notify\\nthe police. Write a program with dynamic approach which return the\\nmaximum amount of money you can steal tonight without alerting the\\ncops, given an integer array wealth representing the amount of money\\nlying in each home.\\nExample : If there as 5 houses in a street, and their wealth array is given\\nas: [2, 7, 9, 3, 1].\\nOutput : 12\\nExplanation: Rob house 1 (give wealth = 2), rob house 3 (give wealth =\\n9) and rob house 5 (give wealth = 1). Total profit Alice = 2 + 9 + 1 = 12.'"
      ]
     },
     "execution_count": 1,
     "metadata": {},
     "output_type": "execute_result"
    }
   ],
   "source": [
    "'''House Robbing: Alice is a skilled thief who plans to rob houses down\n",
    "a lane. Each house has a certain amount of money stashed, and the\n",
    "only thing keeping Alice from robbing each of them is that neighbouring\n",
    "houses have security systems attached, and if two adjacent houses are\n",
    "broken into on the same night, the security systems will immediately notify\n",
    "the police. Write a program with dynamic approach which return the\n",
    "maximum amount of money you can steal tonight without alerting the\n",
    "cops, given an integer array wealth representing the amount of money\n",
    "lying in each home.\n",
    "Example : If there as 5 houses in a street, and their wealth array is given\n",
    "as: [2, 7, 9, 3, 1].\n",
    "Output : 12\n",
    "Explanation: Rob house 1 (give wealth = 2), rob house 3 (give wealth =\n",
    "9) and rob house 5 (give wealth = 1). Total profit Alice = 2 + 9 + 1 = 12.'''\n",
    "\n"
   ]
  },
  {
   "cell_type": "code",
   "execution_count": 3,
   "metadata": {},
   "outputs": [
    {
     "name": "stdout",
     "output_type": "stream",
     "text": [
      "3\n",
      "1 5 3\n",
      "The maximum amount he can steal is  5\n"
     ]
    }
   ],
   "source": [
    "#time complexity of the problem ==> o(n)\n",
    "\n",
    "def maxPossibleRob(arr):    #function to find max possible amount he can rob from the houses\n",
    "    arrSize = len(arr)\n",
    "    maxRob = []\n",
    "    if(arrSize == 1):           #if there is only one house in the street he has only one possible option\n",
    "        return arr[0]\n",
    "    maxRob.append(arr[0])  #upto 0'th index he can only rob the first house\n",
    "    maxRob.append(max(arr[0],arr[1])) #upto 1'st index he can rob either the first or second house, so he will rob in which he gets maximum amout of robbery\n",
    "    for i in range(2,arrSize):\n",
    "        maxRob.append(max(maxRob[i-1], maxRob[i-2]+arr[i]))  #either he does not steal from the current house or he \n",
    "                                                             # steals from the current house and the house that is 2 index back from the current house\n",
    "    return maxRob[arrSize-1]\n",
    "\n",
    "n = int(input())   # size of array\n",
    "arr = []           # the array itself, consisting of wealth in i'th house\n",
    "arr = list(map(int,input().split(' ')))\n",
    "ans = maxPossibleRob(arr)  #compute maximum possible money he can rob\n",
    "print(\"The maximum amount he can steal is \",ans)\n"
   ]
  },
  {
   "cell_type": "code",
   "execution_count": 11,
   "metadata": {},
   "outputs": [
    {
     "data": {
      "text/plain": [
       "'\\nMinimum steps to one problem: You can perform any one of the\\nthree steps mentioned below on a positive integer.\\n(a) Take away one. (n = n − 1)\\n(b) Divide by 2, if it’s divisible by two. (if n%2 == 0, then n = n/2),\\n(c) If the number is divisible by three, divide by three.(if n%3 == 0.\\nthen n = n/3),\\nNow, given a positive integer n, calculate the minimum number of steps\\nthat takes from n to 1. Solve only by using dynamic approach and com-\\nment in your code where you have applied it.\\n'"
      ]
     },
     "execution_count": 11,
     "metadata": {},
     "output_type": "execute_result"
    }
   ],
   "source": [
    "'''\n",
    "Minimum steps to one problem: You can perform any one of the\n",
    "three steps mentioned below on a positive integer.\n",
    "(a) Take away one. (n = n − 1)\n",
    "(b) Divide by 2, if it’s divisible by two. (if n%2 == 0, then n = n/2),\n",
    "(c) If the number is divisible by three, divide by three.(if n%3 == 0.\n",
    "then n = n/3),\n",
    "Now, given a positive integer n, calculate the minimum number of steps\n",
    "that takes from n to 1. Solve only by using dynamic approach and com-\n",
    "ment in your code where you have applied it.\n",
    "'''"
   ]
  },
  {
   "cell_type": "code",
   "execution_count": 41,
   "metadata": {},
   "outputs": [
    {
     "name": "stdout",
     "output_type": "stream",
     "text": [
      "5\n",
      "The minimum number of possible steps to take n to 1 is  3\n"
     ]
    }
   ],
   "source": [
    "#time complexity of the problem ==> o(n)\n",
    "n = int(input())\n",
    "dynamicArray = []\n",
    "dynamicArray.append(100000000)   #if we are at zero, we can never take it to 1\n",
    "dynamicArray.append(0)           #if we are at one, we are already here hence 0\n",
    "dynamicArray.append(1)           #if we are at two, it will take us only one step to take it to 1, n/2\n",
    "dynamicArray.append(1)           #if we are at three, it will take us only one step to take it to 1, n/3\n",
    "\n",
    "for i in range(4,n+1):\n",
    "    dynamicArray.append(1+dynamicArray[i-1])  #first take it to i-1, then to 1\n",
    "    if(i%2==0):    # if it is divisible by two\n",
    "        dynamicArray[i] = min(dynamicArray[i], 1+dynamicArray[int(i/2)]) #first take it to n/2, then to 1\n",
    "    if(i%3==0):    # if it is divisible by three\n",
    "        dynamicArray[i] = min(dynamicArray[i], 1+dynamicArray[int(i/3)]) #first take it n/3, then to 1\n",
    "\n",
    "print(\"The minimum number of possible steps to take n to 1 is \", dynamicArray[n]) #here is our answer\n"
   ]
  },
  {
   "cell_type": "code",
   "execution_count": 20,
   "metadata": {},
   "outputs": [
    {
     "data": {
      "text/plain": [
       "'Vegetable cost Problem: Rahul wants to inspect the quality of the\\nvegetables in each store of a vegetable market. Suppose there are N\\ndifferent vendors. Every seller has a single kilogram of onion, carrot, and\\ntomato, but of different prices. Rahul wants to buy only one vegetable\\nfrom a single shop, avoiding buying the same vegetable from adjacent\\nshops. Given the cost of each vegetable in each shop in a N × 3 matrix,\\ncalculate the minimum amount of money that Rahul must spend in the\\ninspection.\\nExample: If there are three shops, and the corresponding cost matrix is\\ngiven as follows:\\nx\\nshop1\\nshop2\\nshop3\\nonion\\n50\\n50\\n1\\ncarrot\\n50\\n50\\n50\\ntomato\\n1\\n50\\n50\\nThen minimum cost will be 52 (onion from shop3, carrot from any shop2,\\nand tomato from shop1). Write a program with dynamic approach for N\\nshops and any given N × 3 cost matrix.'"
      ]
     },
     "execution_count": 20,
     "metadata": {},
     "output_type": "execute_result"
    }
   ],
   "source": [
    "'''Vegetable cost Problem: Rahul wants to inspect the quality of the\n",
    "vegetables in each store of a vegetable market. Suppose there are N\n",
    "different vendors. Every seller has a single kilogram of onion, carrot, and\n",
    "tomato, but of different prices. Rahul wants to buy only one vegetable\n",
    "from a single shop, avoiding buying the same vegetable from adjacent\n",
    "shops. Given the cost of each vegetable in each shop in a N × 3 matrix,\n",
    "calculate the minimum amount of money that Rahul must spend in the\n",
    "inspection.\n",
    "Example: If there are three shops, and the corresponding cost matrix is\n",
    "given as follows:\n",
    "x\n",
    "shop1\n",
    "shop2\n",
    "shop3\n",
    "onion\n",
    "50\n",
    "50\n",
    "1\n",
    "carrot\n",
    "50\n",
    "50\n",
    "50\n",
    "tomato\n",
    "1\n",
    "50\n",
    "50\n",
    "Then minimum cost will be 52 (onion from shop3, carrot from any shop2,\n",
    "and tomato from shop1). Write a program with dynamic approach for N\n",
    "shops and any given N × 3 cost matrix.'''"
   ]
  },
  {
   "cell_type": "code",
   "execution_count": 22,
   "metadata": {},
   "outputs": [
    {
     "name": "stdout",
     "output_type": "stream",
     "text": [
      "3\n",
      "50 50 1\n",
      "50 50 50\n",
      "1 50 50\n",
      "The minimum cost is  52\n"
     ]
    }
   ],
   "source": [
    "#time complexity of the problem ==> o(n)\n",
    "def minCost( N, cost):  #function to compute minimun amout of cost he has spend\n",
    "    for i in range(1,N):\n",
    "        cost[i][0]+=min(cost[i-1][1],cost[i-1][2]) #if we are buying 0'th item from current shop, we have to buy either 1'st or 2'nd item from previous shop\n",
    "        cost[i][1]+=min(cost[i-1][0],cost[i-1][2]) #if we are buying 1'st item from current shop, we have to buy either 0'th or 2'nd item from previous shop\n",
    "        cost[i][2]+=min(cost[i-1][0],cost[i-1][1]) #if we are buying 2'nd item from current shop, we have to buy either 0'th or 1'st item from previous shop\n",
    "    return(min(cost[N-1])) #minimum cost to spend \n",
    "\n",
    "n = int(input()) #input n, the no of shops\n",
    "cost = []\n",
    "for i in range(n):  \n",
    "    cost.append(list(map(int,input().split(' ')))) #input an array of 3 integers for eg 1 2 3\n",
    "\n",
    "print(\"The minimum cost is \", minCost(n, cost)) #here is our answer\n",
    "\n",
    "        "
   ]
  },
  {
   "cell_type": "code",
   "execution_count": 23,
   "metadata": {},
   "outputs": [
    {
     "data": {
      "text/plain": [
       "'Cutting a gold bar: Bob robbed a gold bar from a wealthy businessman,\\nand in order to avoid being arrested, he decided to shell the gold bar, but\\nnot in one piece, so he cut the bar into small pieces and plan to sell them\\nto various jewellery stores to maximise his profit. He has a gold bar of\\nlength n inches and an array of prices containing prices of all pieces of size\\nsmaller than n. Write a program using dynamic programming approach\\nthat determine the maximum value obtainable by cutting up the gold bar\\nand selling the pieces.\\nExample : If length of the rod is 10 inches and the values of different\\npieces are given as following,\\nlength\\nprice\\n1\\n10\\n2\\n15\\n3\\n20\\n4\\n25\\n5\\n30\\n6\\n50\\n7\\n60\\n8\\n70\\nthen the maximum obtainable value is 100 (by cutting in ten pieces of\\nlength 1).\\n'"
      ]
     },
     "execution_count": 23,
     "metadata": {},
     "output_type": "execute_result"
    }
   ],
   "source": [
    "'''Cutting a gold bar: Bob robbed a gold bar from a wealthy businessman,\n",
    "and in order to avoid being arrested, he decided to shell the gold bar, but\n",
    "not in one piece, so he cut the bar into small pieces and plan to sell them\n",
    "to various jewellery stores to maximise his profit. He has a gold bar of\n",
    "length n inches and an array of prices containing prices of all pieces of size\n",
    "smaller than n. Write a program using dynamic programming approach\n",
    "that determine the maximum value obtainable by cutting up the gold bar\n",
    "and selling the pieces.\n",
    "Example : If length of the rod is 10 inches and the values of different\n",
    "pieces are given as following,\n",
    "length\n",
    "price\n",
    "1\n",
    "10\n",
    "2\n",
    "15\n",
    "3\n",
    "20\n",
    "4\n",
    "25\n",
    "5\n",
    "30\n",
    "6\n",
    "50\n",
    "7\n",
    "60\n",
    "8\n",
    "70\n",
    "then the maximum obtainable value is 100 (by cutting in ten pieces of\n",
    "length 1).\n",
    "'''"
   ]
  },
  {
   "cell_type": "code",
   "execution_count": 46,
   "metadata": {},
   "outputs": [
    {
     "name": "stdout",
     "output_type": "stream",
     "text": [
      "3\n",
      "10 1\n",
      "maximum possible value of price he can obtain is  30\n"
     ]
    }
   ],
   "source": [
    "#time complexity of the problem ==> o(n*n)\n",
    "def maxPrice( price): #the function to compute maximum price value of the goldbar\n",
    "    n = len(price) #size of array\n",
    "    for i in range(1,n): #compute max price of each of the piece\n",
    "        for j in range(0,i):\n",
    "            price[i] = max(price[i], price[j]+price[i-j-1])\n",
    "    \n",
    "n = int(input()) #take input n\n",
    "price = list(map(int, input().split(' '))) #array input, of size n-1, consisting of price of all pieces of size from 1 to n-1\n",
    "ans = -1\n",
    "maxPrice(price)\n",
    "for i in range(n-1):\n",
    "    ans = max(ans, price[i]+price[n-i-2]) #compute max possible price he can obtain\n",
    "print(\"maximum possible value of price he can obtain is \", ans) #print ans\n",
    "    "
   ]
  },
  {
   "cell_type": "code",
   "execution_count": 31,
   "metadata": {},
   "outputs": [
    {
     "data": {
      "text/plain": [
       "'Given a string S, you are allowed to convert it to a palindrome by adding 0\\nor more characters in front of it. Find the length of the shortest palindrome\\nthat you can create from S by applying the above transformation.'"
      ]
     },
     "execution_count": 31,
     "metadata": {},
     "output_type": "execute_result"
    }
   ],
   "source": [
    "'''Given a string S, you are allowed to convert it to a palindrome by adding 0\n",
    "or more characters in front of it. Find the length of the shortest palindrome\n",
    "that you can create from S by applying the above transformation.'''"
   ]
  },
  {
   "cell_type": "code",
   "execution_count": 36,
   "metadata": {},
   "outputs": [
    {
     "name": "stdout",
     "output_type": "stream",
     "text": [
      "ff\n",
      "Minimum no of characters to append at the end of the string to make it palindrome are  0\n"
     ]
    }
   ],
   "source": [
    "#time complexity of the problem ==> o(n)\n",
    "def computeLPSArray(string): # function to compute lowest palindromic subsequence array\n",
    "    n = len(string) #size of string\n",
    "    lps = [None] * n #lps array initially consisting of none values\n",
    "    length = 0\n",
    "    lps[0] = 0\n",
    "    i = 1\n",
    "    while i < n:\n",
    "        if string[i] == string[length]:#if the considered two charcters matches, then update length and lps array\n",
    "            length += 1\n",
    "            lps[i] = length\n",
    "            i += 1\n",
    "        else:                          # (str[i] != str[len])\n",
    "            if length != 0:\n",
    "                length = lps[length - 1]\n",
    "            else:                      # if (len == 0)\n",
    "                lps[i] = 0\n",
    "                i += 1\n",
    "    return lps\n",
    "def solution(string):\n",
    "    revStr = string[::-1]  #reverse the string\n",
    "    concat = string + \"$\" + revStr #concatenated string\n",
    "    lps = computeLPSArray(concat) #compute lps array\n",
    "    return len(string) - lps[-1] #final answer\n",
    "string =str(input())  #take input the string\n",
    "print(\"Minimum no of characters to append at the end of the string to make it palindrome are \", solution(string))#print the final answer\n",
    "    "
   ]
  },
  {
   "cell_type": "code",
   "execution_count": 37,
   "metadata": {},
   "outputs": [
    {
     "data": {
      "text/plain": [
       "'Award problem: Rahul teaches an algebraic courses. He wants to hon-\\nour the students in his class with some awards. All the students stand\\nin a line and each of them has a grade according to his or her participa-\\ntion in the class. Rahul wants to give each student at least one award.\\nIf two students are standing adjacent to each other, then the one with\\nthe higher rating must get more awards than the other. Rahul wants to\\nbuy the fewest number of awards possible. Your task is to determine the\\nminimum number of awards Rahul must purchase in order to distribute\\nthem among his students according to the criteria listed above, given an\\narray GRADES of size N containing each student’s grades.\\nExample: Assume his students’ ratings are [5, 8, 1, 5, 9, 4]. He gives the\\nstudents awards in the following minimal amounts: [1, 2, 1, 2, 3, 1]. He\\nmust buy a minimum of 10 awards.'"
      ]
     },
     "execution_count": 37,
     "metadata": {},
     "output_type": "execute_result"
    }
   ],
   "source": [
    "'''Award problem: Rahul teaches an algebraic courses. He wants to hon-\n",
    "our the students in his class with some awards. All the students stand\n",
    "in a line and each of them has a grade according to his or her participa-\n",
    "tion in the class. Rahul wants to give each student at least one award.\n",
    "If two students are standing adjacent to each other, then the one with\n",
    "the higher rating must get more awards than the other. Rahul wants to\n",
    "buy the fewest number of awards possible. Your task is to determine the\n",
    "minimum number of awards Rahul must purchase in order to distribute\n",
    "them among his students according to the criteria listed above, given an\n",
    "array GRADES of size N containing each student’s grades.\n",
    "Example: Assume his students’ ratings are [5, 8, 1, 5, 9, 4]. He gives the\n",
    "students awards in the following minimal amounts: [1, 2, 1, 2, 3, 1]. He\n",
    "must buy a minimum of 10 awards.'''"
   ]
  },
  {
   "cell_type": "code",
   "execution_count": 46,
   "metadata": {},
   "outputs": [
    {
     "name": "stdout",
     "output_type": "stream",
     "text": [
      "6\n",
      "5 8 1 5 9 4\n",
      "Minimum amount of awards he has distribute is  10\n"
     ]
    }
   ],
   "source": [
    "#time complexity of the problem ==> o(n)\n",
    "def findMinAmount(arr): #function to compute minimum amount of awards he has to distribute\n",
    "    n = len(arr) #size of the array\n",
    "    ans = 0\n",
    "    ansArr = []\n",
    "    incLeft = []  #array to store the value of each element it is continously greater then from left side\n",
    "    incLeft.append(1)\n",
    "    for i in range(1,n): #compute incLeft array\n",
    "        if(arr[i]>arr[i-1]): #if it is greater then its left element, its incLeft value if 1 greater then its left element\n",
    "            incLeft.append(incLeft[i-1]+1)\n",
    "        else:\n",
    "            incLeft.append(1)\n",
    "    incRight = []#array to store the value of each element it is continously greater then from right side\n",
    "    for i in range(n):#compute incRight array\n",
    "        incRight.append(1)\n",
    "    i = int(n-2)\n",
    "    while(i>=0):\n",
    "        if(arr[i]>arr[i+1]):#if it is greater then its right element, its incRight value if 1 greater then its right element\n",
    "            incRight[i]=incRight[i+1]+1\n",
    "        i-=1\n",
    "    for i in range(n): #for each element, he has to give at least max(incLeft[i],incRight[i]) of awards\n",
    "        ans+=max(incLeft[i],incRight[i])\n",
    "    return ans\n",
    "\n",
    "n = int(input()) #take input n, the number of children\n",
    "arr = list(map(int,input().split())) # grades of the children, array input to expected in the form of eg 1 2 3 4\n",
    "print(\"Minimum amount of awards he has distribute is \",findMinAmount(arr))"
   ]
  },
  {
   "cell_type": "code",
   "execution_count": 1,
   "metadata": {},
   "outputs": [
    {
     "data": {
      "text/plain": [
       "'Investment Problem: Your knowledge of algorithms helps you obtain\\nan exciting job with the Software Company, along with a $20, 000 signing\\nbonus. You decide to invest this money with the goal of maximizing your\\nreturn at the end of 10 years. You decide to use the ABC Investment\\nCompany to manage your investments. ABC Investments requires you to\\nobserve the following rules. It offers n different investments, numbered 1\\nthrough n. In each year j , investment i provides a return rate of r ij .\\nIn other words, if you invest d dollars in investment i in year j, then at\\nthe end of year j , you have dr ij dollars. The return rates are guaranteed,\\nthat is, you are given all the return rates for the next 10 years for each\\ninvestment. You make investment decisions only once per year. At the\\nend of each year, you can leave the money made in the previous year in\\nthe same investments, or you can shift money to other investments, by\\neither shifting money between existing investments or moving money to a\\nnew investment. If you do not move your money between two consecutive\\nyears, you pay a fee of f 1 dollars, whereas if you switch your money, you\\npay a fee of f 2 dollars, where f 2 > f 1 .\\nDesign a program that plans your optimal investment strategy, for any\\ngiven amount and years.'"
      ]
     },
     "execution_count": 1,
     "metadata": {},
     "output_type": "execute_result"
    }
   ],
   "source": [
    "'''Investment Problem: Your knowledge of algorithms helps you obtain\n",
    "an exciting job with the Software Company, along with a $20, 000 signing\n",
    "bonus. You decide to invest this money with the goal of maximizing your\n",
    "return at the end of 10 years. You decide to use the ABC Investment\n",
    "Company to manage your investments. ABC Investments requires you to\n",
    "observe the following rules. It offers n different investments, numbered 1\n",
    "through n. In each year j , investment i provides a return rate of r ij .\n",
    "In other words, if you invest d dollars in investment i in year j, then at\n",
    "the end of year j , you have dr ij dollars. The return rates are guaranteed,\n",
    "that is, you are given all the return rates for the next 10 years for each\n",
    "investment. You make investment decisions only once per year. At the\n",
    "end of each year, you can leave the money made in the previous year in\n",
    "the same investments, or you can shift money to other investments, by\n",
    "either shifting money between existing investments or moving money to a\n",
    "new investment. If you do not move your money between two consecutive\n",
    "years, you pay a fee of f 1 dollars, whereas if you switch your money, you\n",
    "pay a fee of f 2 dollars, where f 2 > f 1 .\n",
    "Design a program that plans your optimal investment strategy, for any\n",
    "given amount and years.'''"
   ]
  },
  {
   "cell_type": "code",
   "execution_count": 14,
   "metadata": {},
   "outputs": [
    {
     "name": "stdout",
     "output_type": "stream",
     "text": [
      "3\n",
      "2\n",
      "1 2 3\n",
      "2 1 4\n",
      "1\n",
      "2\n",
      "2\n",
      "Maximum amount of money he can have at the end of 3 years is 9\n",
      "\n",
      "So the scheme he should follow is\n",
      "\n",
      "Year       Investement(one based index)\n",
      "1          2\n",
      "2          1\n",
      "3          1\n"
     ]
    }
   ],
   "source": [
    "#time complexity of the problem ==> o(n*n) where n=no of investments\n",
    "def finalMaxAmount(r, years, investement, f1, f2, initial_amount, scheme,amount): #function to compute max value of amount he can have after 10 years\n",
    "    amount.append([]) #array to store amount he can have after any no of years in different investments\n",
    "    scheme.append([]) #array to store previous best investement he should choose\n",
    "    for i in range(investement): #for 1st year\n",
    "        amount[0].append(initial_amount*(r[i][0]))\n",
    "        scheme[0].append(-1)\n",
    "    for j in range(1, years):#for subsequent years\n",
    "        amount.append([])\n",
    "        scheme.append([])\n",
    "        for i in range(investement):\n",
    "            amount[j].append(-1)\n",
    "            scheme[j].append(-1)\n",
    "            for i_prev in range(investement):\n",
    "                if(i_prev==i): #if he is investing in the same investment he has to pay a fee of f1\n",
    "                    temp = (amount[j-1][i_prev]-f1)*(r[i][j])\n",
    "                    if(temp>amount[j][i]):\n",
    "                        scheme[j][i] = i_prev\n",
    "                        amount[j][i]=temp\n",
    "                else:          #if he is investing in any different investment he has to pay a fee of f2\n",
    "                    temp = (amount[j-1][i_prev]-f2)*(r[i][j])\n",
    "                    if(temp>amount[j][i]):\n",
    "                        scheme[j][i] = i_prev\n",
    "                        amount[j][i]=temp\n",
    "    return max(amount[years-1]) #maximum amount he can have after 'years' years\n",
    "\n",
    "years = int(input())  #no of years for which he is planning to keep money in investement, expected 10\n",
    "investement = int(input()) #no of investement company offers\n",
    "r = []\n",
    "for i in range(investement):\n",
    "    r.append(list(map(int, input().split())))   #expected a list a years no of numbers\n",
    "\n",
    "f1 = int(input())\n",
    "f2 = int(input())\n",
    "scheme = []\n",
    "initial_amount = int(input())  #initial amount he has, expected 2000\n",
    "amount = []\n",
    "ans = finalMaxAmount(r,years,investement,f1,f2,initial_amount, scheme, amount) #compute the answer\n",
    "final_invest_company = amount[years-1].index(max(amount[years-1])) #final scheme he has to invest in\n",
    "schemeAns = []\n",
    "Y = years-1\n",
    "while(final_invest_company!=-1): #compute previous schemes he must have invested in\n",
    "    schemeAns.append(final_invest_company+1)\n",
    "    final_invest_company = scheme[Y][final_invest_company]\n",
    "    Y-=1\n",
    "print(\"Maximum amount of money he can have at the end of %d years is %d\\n\"%(years,ans)) #print the answer\n",
    "print(\"So the scheme he should follow is\\n\") #print the scheme\n",
    "print(\"Year       Investement(one based index)\")\n",
    "for i in range(len(schemeAns)):\n",
    "    print(i+1,\"        \",schemeAns[len(schemeAns)-1-i])\n"
   ]
  },
  {
   "cell_type": "code",
   "execution_count": 15,
   "metadata": {},
   "outputs": [
    {
     "data": {
      "text/plain": [
       "'Write an algorithm by modify the KMP algorithm (not DP algorithm!)\\nto find the longest common substring in string S and string T . The al-\\ngorithm should return the longest common substring if present otherwise\\nreturn “Not Found”. What is the time complexity of this modified KMP\\nalgorithm?\\nFor example: if the string S is report, and the string T is airport, then\\nalgorithm should output the longest common substring: port as output.'"
      ]
     },
     "execution_count": 15,
     "metadata": {},
     "output_type": "execute_result"
    }
   ],
   "source": [
    "'''Write an algorithm by modify the KMP algorithm (not DP algorithm!)\n",
    "to find the longest common substring in string S and string T . The al-\n",
    "gorithm should return the longest common substring if present otherwise\n",
    "return “Not Found”. What is the time complexity of this modified KMP\n",
    "algorithm?\n",
    "For example: if the string S is report, and the string T is airport, then\n",
    "algorithm should output the longest common substring: port as output.'''"
   ]
  },
  {
   "cell_type": "code",
   "execution_count": 4,
   "metadata": {},
   "outputs": [
    {
     "name": "stdout",
     "output_type": "stream",
     "text": [
      "suraj\n",
      "vishal\n",
      "Longest common substring is  a\n"
     ]
    }
   ],
   "source": [
    "def lcs(string1, string2, i, j, ans): #function to compute longest common substring\n",
    "    if(string1[i]==string2[j]): #if i'th char of s1 and j'th char of s2 are equal, then compute further substring\n",
    "        ans+=string1[i]\n",
    "        if(i==len(string1)-1 or j==len(string2)-1):\n",
    "            return ans\n",
    "        else:\n",
    "            return lcs(string1, string2, i+1, j+1, ans)\n",
    "    ans1=\"\"            \n",
    "    ans2=\"\"\n",
    "    if(i!=len(string1)-1):\n",
    "        ans1=lcs(string1, string2, i+1, j, ans1)\n",
    "    if(j!=len(string2)-1):\n",
    "        ans2=lcs(string1, string2, i, j+1, ans2)\n",
    "    if(len(ans)<len(ans1)):ans=ans1  #compute the longest common substring\n",
    "    if(len(ans)<len(ans2)): ans=ans2\n",
    "    return ans #return lcs\n",
    "\n",
    "\n",
    "string1 = str(input()) #first string\n",
    "string2 = str(input()) #second string\n",
    "ans = \"\"\n",
    "ans = lcs(string1, string2, 0, 0, ans) #compute lcs\n",
    "if(ans==\"\"):print(\"common substring Not Found\") #if not found print this\n",
    "else:print(\"Longest common substring is \", ans) #else print the answer"
   ]
  }
 ],
 "metadata": {
  "kernelspec": {
   "display_name": "Python 3",
   "language": "python",
   "name": "python3"
  },
  "language_info": {
   "codemirror_mode": {
    "name": "ipython",
    "version": 3
   },
   "file_extension": ".py",
   "mimetype": "text/x-python",
   "name": "python",
   "nbconvert_exporter": "python",
   "pygments_lexer": "ipython3",
   "version": "3.7.6"
  }
 },
 "nbformat": 4,
 "nbformat_minor": 4
}
